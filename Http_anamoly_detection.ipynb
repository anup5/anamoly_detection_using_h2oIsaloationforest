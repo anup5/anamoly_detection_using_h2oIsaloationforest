{
 "cells": [
  {
   "attachments": {},
   "cell_type": "markdown",
   "metadata": {},
   "source": [
    "The original KDD Cup 1999 dataset from UCI machine learning repository contains 41 attributes (34 continuous, and 7 categorical), however, they are reduced to 4 attributes (service, duration, src_bytes, dst_bytes) as these attributes are regarded as the most basic attributes (see kddcup.names), where only ‘service’ is categorical. Using the ‘service’ attribute, the data is divided into {http, smtp, ftp, ftp_data, others} subsets. Here, only ‘http’ service data is used. Since the continuous attribute values are concentrated around ‘0’, we transformed each value into a value far from ‘0’, by y = log(x + 0.1). The original data set has 3,925,651 class (80.1%) out of 4,898,431 records. A smaller set is forged by having only 3,377 class (0.35%) of 976,157 records, where attribute ‘logged_in’ is positive. From this forged dataset 567,497 ‘http’ service data is used to construct the http (KDDCUP99) dataset.\n",
    "\n",
    "Description: X = Multi-dimensional point data, y = labels (1 = outliers, 0 = inliers)\n",
    "\n",
    "http://odds.cs.stonybrook.edu/http-kddcup99-dataset/"
   ]
  },
  {
   "cell_type": "code",
   "execution_count": 1,
   "metadata": {},
   "outputs": [],
   "source": [
    "import numpy as np\n",
    "import pandas as pd\n",
    "\n",
    "import seaborn as sns\n",
    "import matplotlib.pyplot as plt\n",
    "\n",
    "from sklearn import metrics\n",
    "\n",
    "import warnings\n",
    "warnings.filterwarnings('ignore')\n",
    "\n",
    "import os\n",
    "import time\n",
    "\n",
    "\n",
    "from sklearn.cluster import KMeans\n",
    "from sklearn.cluster import AgglomerativeClustering\n",
    "from sklearn.cluster import DBSCAN\n",
    "from sklearn.cluster import MeanShift\n",
    "from sklearn.cluster import Birch\n",
    "from sklearn.cluster import AffinityPropagation\n",
    "from sklearn.cluster import MiniBatchKMeans\n",
    "\n",
    "from sklearn.model_selection import ParameterGrid\n",
    "\n",
    "from sklearn.metrics import homogeneity_completeness_v_measure\n",
    "from sklearn.metrics import homogeneity_score\n",
    "from sklearn.metrics import completeness_score\n",
    "from sklearn.metrics import v_measure_score\n",
    "from sklearn.metrics import adjusted_mutual_info_score\n",
    "from sklearn.metrics import adjusted_rand_score\n",
    "from sklearn.metrics import silhouette_score\n",
    "\n",
    "import h2o\n"
   ]
  },
  {
   "cell_type": "code",
   "execution_count": 2,
   "metadata": {},
   "outputs": [],
   "source": [
    "os.chdir(r\"C:\\Users\\eanusau\\Documents\\AI\\Stat\\Projects\\Clustering\")"
   ]
  },
  {
   "cell_type": "code",
   "execution_count": 3,
   "metadata": {},
   "outputs": [
    {
     "name": "stdout",
     "output_type": "stream",
     "text": [
      "pandas version: 0.25.3\n",
      "numpy version: 1.16.6\n",
      "h2o version: 3.30.0.2\n"
     ]
    }
   ],
   "source": [
    "def print_version():\n",
    "    print('pandas version:', pd.__version__)\n",
    "    print('numpy version:', np.__version__)\n",
    "    print('h2o version:', h2o.__version__)\n",
    "    \n",
    "print_version()\n"
   ]
  },
  {
   "cell_type": "markdown",
   "metadata": {},
   "source": [
    "# dataset is in matlab file format"
   ]
  },
  {
   "cell_type": "code",
   "execution_count": 4,
   "metadata": {},
   "outputs": [],
   "source": [
    "import hdf5storage\n",
    "mat = hdf5storage.loadmat('datasets/http.mat')"
   ]
  },
  {
   "cell_type": "code",
   "execution_count": 5,
   "metadata": {},
   "outputs": [],
   "source": [
    "X = mat.get('X')\n",
    "y = mat.get('y')"
   ]
  },
  {
   "cell_type": "code",
   "execution_count": 6,
   "metadata": {},
   "outputs": [
    {
     "data": {
      "text/plain": [
       "array([[-2.30258509,  5.37110304, 10.71610745],\n",
       "       [-2.30258509,  5.08821343,  8.4180577 ],\n",
       "       [-2.30258509,  5.46425544,  7.11322354],\n",
       "       ...,\n",
       "       [-2.30258509,  5.38495367,  8.19149075],\n",
       "       [-2.30258509,  5.38952825,  7.11809724],\n",
       "       [-2.30258509,  5.38952825,  7.00133669]])"
      ]
     },
     "execution_count": 6,
     "metadata": {},
     "output_type": "execute_result"
    }
   ],
   "source": [
    "X"
   ]
  },
  {
   "cell_type": "code",
   "execution_count": 7,
   "metadata": {},
   "outputs": [
    {
     "data": {
      "text/plain": [
       "array([[0., 0., 0., ..., 0., 0., 0.]])"
      ]
     },
     "execution_count": 7,
     "metadata": {},
     "output_type": "execute_result"
    }
   ],
   "source": [
    "y.T"
   ]
  },
  {
   "cell_type": "code",
   "execution_count": 8,
   "metadata": {},
   "outputs": [],
   "source": [
    "col_names = ['duration','src_bytes','dst_bytes','class']"
   ]
  },
  {
   "cell_type": "code",
   "execution_count": 9,
   "metadata": {},
   "outputs": [],
   "source": [
    "data = np.concatenate((X, y), axis=1)"
   ]
  },
  {
   "cell_type": "code",
   "execution_count": 10,
   "metadata": {},
   "outputs": [
    {
     "data": {
      "text/html": [
       "<div>\n",
       "<style scoped>\n",
       "    .dataframe tbody tr th:only-of-type {\n",
       "        vertical-align: middle;\n",
       "    }\n",
       "\n",
       "    .dataframe tbody tr th {\n",
       "        vertical-align: top;\n",
       "    }\n",
       "\n",
       "    .dataframe thead th {\n",
       "        text-align: right;\n",
       "    }\n",
       "</style>\n",
       "<table border=\"1\" class=\"dataframe\">\n",
       "  <thead>\n",
       "    <tr style=\"text-align: right;\">\n",
       "      <th></th>\n",
       "      <th>duration</th>\n",
       "      <th>src_bytes</th>\n",
       "      <th>dst_bytes</th>\n",
       "      <th>class</th>\n",
       "    </tr>\n",
       "  </thead>\n",
       "  <tbody>\n",
       "    <tr>\n",
       "      <th>0</th>\n",
       "      <td>-2.302585</td>\n",
       "      <td>5.371103</td>\n",
       "      <td>10.716107</td>\n",
       "      <td>0.0</td>\n",
       "    </tr>\n",
       "    <tr>\n",
       "      <th>1</th>\n",
       "      <td>-2.302585</td>\n",
       "      <td>5.088213</td>\n",
       "      <td>8.418058</td>\n",
       "      <td>0.0</td>\n",
       "    </tr>\n",
       "    <tr>\n",
       "      <th>2</th>\n",
       "      <td>-2.302585</td>\n",
       "      <td>5.464255</td>\n",
       "      <td>7.113224</td>\n",
       "      <td>0.0</td>\n",
       "    </tr>\n",
       "    <tr>\n",
       "      <th>3</th>\n",
       "      <td>-2.302585</td>\n",
       "      <td>5.451468</td>\n",
       "      <td>7.616825</td>\n",
       "      <td>0.0</td>\n",
       "    </tr>\n",
       "    <tr>\n",
       "      <th>4</th>\n",
       "      <td>-2.302585</td>\n",
       "      <td>5.476882</td>\n",
       "      <td>6.186414</td>\n",
       "      <td>0.0</td>\n",
       "    </tr>\n",
       "  </tbody>\n",
       "</table>\n",
       "</div>"
      ],
      "text/plain": [
       "   duration  src_bytes  dst_bytes  class\n",
       "0 -2.302585   5.371103  10.716107    0.0\n",
       "1 -2.302585   5.088213   8.418058    0.0\n",
       "2 -2.302585   5.464255   7.113224    0.0\n",
       "3 -2.302585   5.451468   7.616825    0.0\n",
       "4 -2.302585   5.476882   6.186414    0.0"
      ]
     },
     "execution_count": 10,
     "metadata": {},
     "output_type": "execute_result"
    }
   ],
   "source": [
    "df = pd.DataFrame(data, columns=col_names)\n",
    "df.head()"
   ]
  },
  {
   "cell_type": "code",
   "execution_count": 11,
   "metadata": {},
   "outputs": [],
   "source": [
    "df['class'] = df['class'].astype('int')"
   ]
  },
  {
   "cell_type": "code",
   "execution_count": 12,
   "metadata": {},
   "outputs": [
    {
     "data": {
      "text/html": [
       "<div>\n",
       "<style scoped>\n",
       "    .dataframe tbody tr th:only-of-type {\n",
       "        vertical-align: middle;\n",
       "    }\n",
       "\n",
       "    .dataframe tbody tr th {\n",
       "        vertical-align: top;\n",
       "    }\n",
       "\n",
       "    .dataframe thead th {\n",
       "        text-align: right;\n",
       "    }\n",
       "</style>\n",
       "<table border=\"1\" class=\"dataframe\">\n",
       "  <thead>\n",
       "    <tr style=\"text-align: right;\">\n",
       "      <th></th>\n",
       "      <th>duration</th>\n",
       "      <th>src_bytes</th>\n",
       "      <th>dst_bytes</th>\n",
       "      <th>class</th>\n",
       "    </tr>\n",
       "  </thead>\n",
       "  <tbody>\n",
       "    <tr>\n",
       "      <th>count</th>\n",
       "      <td>567498.000000</td>\n",
       "      <td>567498.000000</td>\n",
       "      <td>567498.000000</td>\n",
       "      <td>567498.000000</td>\n",
       "    </tr>\n",
       "    <tr>\n",
       "      <th>mean</th>\n",
       "      <td>-2.268538</td>\n",
       "      <td>5.557679</td>\n",
       "      <td>7.489226</td>\n",
       "      <td>0.003896</td>\n",
       "    </tr>\n",
       "    <tr>\n",
       "      <th>std</th>\n",
       "      <td>0.465346</td>\n",
       "      <td>0.435007</td>\n",
       "      <td>1.316983</td>\n",
       "      <td>0.062297</td>\n",
       "    </tr>\n",
       "    <tr>\n",
       "      <th>min</th>\n",
       "      <td>-2.302585</td>\n",
       "      <td>-2.302585</td>\n",
       "      <td>-2.302585</td>\n",
       "      <td>0.000000</td>\n",
       "    </tr>\n",
       "    <tr>\n",
       "      <th>25%</th>\n",
       "      <td>-2.302585</td>\n",
       "      <td>5.380358</td>\n",
       "      <td>6.490875</td>\n",
       "      <td>0.000000</td>\n",
       "    </tr>\n",
       "    <tr>\n",
       "      <th>50%</th>\n",
       "      <td>-2.302585</td>\n",
       "      <td>5.517854</td>\n",
       "      <td>7.415235</td>\n",
       "      <td>0.000000</td>\n",
       "    </tr>\n",
       "    <tr>\n",
       "      <th>75%</th>\n",
       "      <td>-2.302585</td>\n",
       "      <td>5.723912</td>\n",
       "      <td>8.372884</td>\n",
       "      <td>0.000000</td>\n",
       "    </tr>\n",
       "    <tr>\n",
       "      <th>max</th>\n",
       "      <td>8.098369</td>\n",
       "      <td>10.906691</td>\n",
       "      <td>16.277711</td>\n",
       "      <td>1.000000</td>\n",
       "    </tr>\n",
       "  </tbody>\n",
       "</table>\n",
       "</div>"
      ],
      "text/plain": [
       "            duration      src_bytes      dst_bytes          class\n",
       "count  567498.000000  567498.000000  567498.000000  567498.000000\n",
       "mean       -2.268538       5.557679       7.489226       0.003896\n",
       "std         0.465346       0.435007       1.316983       0.062297\n",
       "min        -2.302585      -2.302585      -2.302585       0.000000\n",
       "25%        -2.302585       5.380358       6.490875       0.000000\n",
       "50%        -2.302585       5.517854       7.415235       0.000000\n",
       "75%        -2.302585       5.723912       8.372884       0.000000\n",
       "max         8.098369      10.906691      16.277711       1.000000"
      ]
     },
     "execution_count": 12,
     "metadata": {},
     "output_type": "execute_result"
    }
   ],
   "source": [
    "df.describe()"
   ]
  },
  {
   "cell_type": "code",
   "execution_count": 13,
   "metadata": {},
   "outputs": [
    {
     "data": {
      "text/plain": [
       "(567498, 4)"
      ]
     },
     "execution_count": 13,
     "metadata": {},
     "output_type": "execute_result"
    }
   ],
   "source": [
    "df.shape"
   ]
  },
  {
   "cell_type": "code",
   "execution_count": 14,
   "metadata": {},
   "outputs": [
    {
     "name": "stdout",
     "output_type": "stream",
     "text": [
      "<class 'pandas.core.frame.DataFrame'>\n",
      "RangeIndex: 567498 entries, 0 to 567497\n",
      "Data columns (total 4 columns):\n",
      "duration     567498 non-null float64\n",
      "src_bytes    567498 non-null float64\n",
      "dst_bytes    567498 non-null float64\n",
      "class        567498 non-null int32\n",
      "dtypes: float64(3), int32(1)\n",
      "memory usage: 15.2 MB\n"
     ]
    }
   ],
   "source": [
    "df.info()"
   ]
  },
  {
   "cell_type": "code",
   "execution_count": 15,
   "metadata": {},
   "outputs": [
    {
     "name": "stdout",
     "output_type": "stream",
     "text": [
      " count of normal events in original data:565287\n",
      " count of anamolies in original data:2211\n",
      " % of anamolies in original data:0.39\n"
     ]
    }
   ],
   "source": [
    "percent_class = round(np.unique(df['class'], return_counts=True)[1][1]/df.shape[0] * 100, 2)\n",
    "print(\" count of normal events in original data:{}\".format(np.unique(df['class'], return_counts=True)[1][0]))\n",
    "print(\" count of anamolies in original data:{}\".format(np.unique(df['class'], return_counts=True)[1][1]))\n",
    "print(\" % of anamolies in original data:{}\".format(percent_class))"
   ]
  },
  {
   "cell_type": "code",
   "execution_count": 16,
   "metadata": {},
   "outputs": [
    {
     "data": {
      "image/png": "[encoded data removed]",
      "text/plain": [
       "<Figure size 432x288 with 1 Axes>"
      ]
     },
     "metadata": {
      "needs_background": "light"
     },
     "output_type": "display_data"
    }
   ],
   "source": [
    "sns.countplot(x=df['class'], data=df)\n",
    "plt.show()"
   ]
  },
  {
   "cell_type": "markdown",
   "metadata": {},
   "source": [
    "## Density Plot and Histogram of predictors"
   ]
  },
  {
   "cell_type": "code",
   "execution_count": 17,
   "metadata": {},
   "outputs": [
    {
     "data": {
      "image/png": "[encoded data removed]",
      "text/plain": [
       "<Figure size 1296x288 with 3 Axes>"
      ]
     },
     "metadata": {
      "needs_background": "light"
     },
     "output_type": "display_data"
    }
   ],
   "source": [
    "fig, ax = plt.subplots(1,3,figsize=(18, 4))\n",
    "\n",
    "sns.distplot(df['duration'], ax=ax[0], hist=True, kde=True, \n",
    "             bins=int(100/5), color = 'darkblue', \n",
    "             hist_kws={'edgecolor':'black'},\n",
    "             kde_kws={'linewidth': 2})\n",
    "ax[0].set(xlabel='duration', ylabel='Density')\n",
    "\n",
    "sns.distplot(df['src_bytes'], ax=ax[1], hist=True, kde=True, \n",
    "             bins=int(100/5), color = 'darkblue', \n",
    "             hist_kws={'edgecolor':'black'},\n",
    "             kde_kws={'linewidth': 4})\n",
    "ax[1].set(xlabel='src_bytes', ylabel='Density')\n",
    "\n",
    "\n",
    "\n",
    "sns.distplot(df['dst_bytes'],ax=ax[2], hist=True, kde=True, \n",
    "             bins=int(100/5), color = 'darkblue', \n",
    "             hist_kws={'edgecolor':'black'},\n",
    "             kde_kws={'linewidth': 4})\n",
    "ax[2].set(xlabel='dst_bytes', ylabel='Density')\n",
    "\n",
    "plt.suptitle(\"Density Plot and Histogram of predictors (randon continuous variables)\\n\")\n",
    "plt.show()"
   ]
  },
  {
   "cell_type": "markdown",
   "metadata": {},
   "source": [
    "## we see src_bytes is strongly positively corelated with the target"
   ]
  },
  {
   "cell_type": "code",
   "execution_count": 18,
   "metadata": {},
   "outputs": [
    {
     "data": {
      "text/plain": [
       "<matplotlib.axes._subplots.AxesSubplot at 0x22caf8ca390>"
      ]
     },
     "execution_count": 18,
     "metadata": {},
     "output_type": "execute_result"
    },
    {
     "data": {
      "image/png": "[encoded data removed]",
      "text/plain": [
       "<Figure size 432x288 with 2 Axes>"
      ]
     },
     "metadata": {
      "needs_background": "light"
     },
     "output_type": "display_data"
    }
   ],
   "source": [
    "df_corr = df.corr()\n",
    "sns.heatmap(df_corr, annot= True, cmap=sns.diverging_palette(220, 10, as_cmap=True))"
   ]
  },
  {
   "cell_type": "markdown",
   "metadata": {},
   "source": [
    "## We see only few src_bytes below 4, so most probably they may be outliers"
   ]
  },
  {
   "cell_type": "code",
   "execution_count": 19,
   "metadata": {},
   "outputs": [
    {
     "data": {
      "image/png": "[encoded data removed]",
      "text/plain": [
       "<Figure size 576x432 with 3 Axes>"
      ]
     },
     "metadata": {
      "needs_background": "light"
     },
     "output_type": "display_data"
    }
   ],
   "source": [
    "fig, [ax1, ax2, ax3] = plt.subplots(1,3, figsize=(8, 6))\n",
    "sns.stripplot(y='duration',x='class', data=df, ax=ax1)\n",
    "sns.stripplot(y='src_bytes',x='class', data=df, ax=ax2)\n",
    "sns.stripplot(y='dst_bytes',x='class', data=df, ax=ax3)\n",
    "plt.show()"
   ]
  },
  {
   "cell_type": "code",
   "execution_count": 20,
   "metadata": {},
   "outputs": [],
   "source": [
    "http_features = df[['duration','src_bytes','dst_bytes']].values\n",
    "http_labels = df['class'].values"
   ]
  },
  {
   "cell_type": "code",
   "execution_count": 21,
   "metadata": {},
   "outputs": [
    {
     "name": "stdout",
     "output_type": "stream",
     "text": [
      "Checking whether there is an H2O instance running at http://localhost:54321 ..... not found.\n",
      "Attempting to start a local H2O server...\n",
      "; Java HotSpot(TM) Client VM (build 25.151-b12, mixed mode, sharing)\n",
      "  Starting server from C:\\Users\\eanusau\\AppData\\Local\\Continuum\\anaconda3\\lib\\site-packages\\h2o\\backend\\bin\\h2o.jar\n",
      "  Ice root: C:\\Users\\eanusau\\AppData\\Local\\Temp\\tmpzr0t0yq4\n",
      "  JVM stdout: C:\\Users\\eanusau\\AppData\\Local\\Temp\\tmpzr0t0yq4\\h2o_eanusau_started_from_python.out\n",
      "  JVM stderr: C:\\Users\\eanusau\\AppData\\Local\\Temp\\tmpzr0t0yq4\\h2o_eanusau_started_from_python.err\n",
      "  Server is running at http://127.0.0.1:54321\n",
      "Connecting to H2O server at http://127.0.0.1:54321 ... successful.\n"
     ]
    },
    {
     "data": {
      "text/html": [
       "<div style=\"overflow:auto\"><table style=\"width:50%\"><tr><td>H2O_cluster_uptime:</td>\n",
       "<td>03 secs</td></tr>\n",
       "<tr><td>H2O_cluster_timezone:</td>\n",
       "<td>Asia/Kolkata</td></tr>\n",
       "<tr><td>H2O_data_parsing_timezone:</td>\n",
       "<td>UTC</td></tr>\n",
       "<tr><td>H2O_cluster_version:</td>\n",
       "<td>3.30.0.2</td></tr>\n",
       "<tr><td>H2O_cluster_version_age:</td>\n",
       "<td>17 days </td></tr>\n",
       "<tr><td>H2O_cluster_name:</td>\n",
       "<td>H2O_from_python_eanusau_vw0slr</td></tr>\n",
       "<tr><td>H2O_cluster_total_nodes:</td>\n",
       "<td>1</td></tr>\n",
       "<tr><td>H2O_cluster_free_memory:</td>\n",
       "<td>247.5 Mb</td></tr>\n",
       "<tr><td>H2O_cluster_total_cores:</td>\n",
       "<td>8</td></tr>\n",
       "<tr><td>H2O_cluster_allowed_cores:</td>\n",
       "<td>8</td></tr>\n",
       "<tr><td>H2O_cluster_status:</td>\n",
       "<td>accepting new members, healthy</td></tr>\n",
       "<tr><td>H2O_connection_url:</td>\n",
       "<td>http://127.0.0.1:54321</td></tr>\n",
       "<tr><td>H2O_connection_proxy:</td>\n",
       "<td>{\"http\": null, \"https\": null}</td></tr>\n",
       "<tr><td>H2O_internal_security:</td>\n",
       "<td>False</td></tr>\n",
       "<tr><td>H2O_API_Extensions:</td>\n",
       "<td>Amazon S3, Algos, AutoML, Core V3, TargetEncoder, Core V4</td></tr>\n",
       "<tr><td>Python_version:</td>\n",
       "<td>3.7.3 final</td></tr></table></div>"
      ],
      "text/plain": [
       "--------------------------  ---------------------------------------------------------\n",
       "H2O_cluster_uptime:         03 secs\n",
       "H2O_cluster_timezone:       Asia/Kolkata\n",
       "H2O_data_parsing_timezone:  UTC\n",
       "H2O_cluster_version:        3.30.0.2\n",
       "H2O_cluster_version_age:    17 days\n",
       "H2O_cluster_name:           H2O_from_python_eanusau_vw0slr\n",
       "H2O_cluster_total_nodes:    1\n",
       "H2O_cluster_free_memory:    247.5 Mb\n",
       "H2O_cluster_total_cores:    8\n",
       "H2O_cluster_allowed_cores:  8\n",
       "H2O_cluster_status:         accepting new members, healthy\n",
       "H2O_connection_url:         http://127.0.0.1:54321\n",
       "H2O_connection_proxy:       {\"http\": null, \"https\": null}\n",
       "H2O_internal_security:      False\n",
       "H2O_API_Extensions:         Amazon S3, Algos, AutoML, Core V3, TargetEncoder, Core V4\n",
       "Python_version:             3.7.3 final\n",
       "--------------------------  ---------------------------------------------------------"
      ]
     },
     "metadata": {},
     "output_type": "display_data"
    }
   ],
   "source": [
    "h2o.init()"
   ]
  },
  {
   "cell_type": "code",
   "execution_count": 22,
   "metadata": {},
   "outputs": [],
   "source": [
    "df.to_csv('datasets/http.csv', index=False)"
   ]
  },
  {
   "cell_type": "markdown",
   "metadata": {},
   "source": [
    "## load the dataset as h2o dataframe"
   ]
  },
  {
   "cell_type": "code",
   "execution_count": 23,
   "metadata": {},
   "outputs": [
    {
     "name": "stdout",
     "output_type": "stream",
     "text": [
      "Parse progress: |█████████████████████████████████████████████████████████| 100%\n"
     ]
    }
   ],
   "source": [
    "df_h2o = h2o.import_file('datasets/http.csv')"
   ]
  },
  {
   "cell_type": "code",
   "execution_count": 24,
   "metadata": {},
   "outputs": [
    {
     "data": {
      "text/html": [
       "<table>\n",
       "<thead>\n",
       "<tr><th style=\"text-align: right;\">  duration</th><th style=\"text-align: right;\">  src_bytes</th><th style=\"text-align: right;\">  dst_bytes</th><th style=\"text-align: right;\">  class</th></tr>\n",
       "</thead>\n",
       "<tbody>\n",
       "<tr><td style=\"text-align: right;\">  -2.30259</td><td style=\"text-align: right;\">    5.3711 </td><td style=\"text-align: right;\">   10.7161 </td><td style=\"text-align: right;\">      0</td></tr>\n",
       "<tr><td style=\"text-align: right;\">  -2.30259</td><td style=\"text-align: right;\">    5.08821</td><td style=\"text-align: right;\">    8.41806</td><td style=\"text-align: right;\">      0</td></tr>\n",
       "<tr><td style=\"text-align: right;\">  -2.30259</td><td style=\"text-align: right;\">    5.46426</td><td style=\"text-align: right;\">    7.11322</td><td style=\"text-align: right;\">      0</td></tr>\n",
       "<tr><td style=\"text-align: right;\">  -2.30259</td><td style=\"text-align: right;\">    5.45147</td><td style=\"text-align: right;\">    7.61683</td><td style=\"text-align: right;\">      0</td></tr>\n",
       "<tr><td style=\"text-align: right;\">  -2.30259</td><td style=\"text-align: right;\">    5.47688</td><td style=\"text-align: right;\">    6.18641</td><td style=\"text-align: right;\">      0</td></tr>\n",
       "<tr><td style=\"text-align: right;\">  -2.30259</td><td style=\"text-align: right;\">    5.47269</td><td style=\"text-align: right;\">    7.15625</td><td style=\"text-align: right;\">      0</td></tr>\n",
       "<tr><td style=\"text-align: right;\">  -2.30259</td><td style=\"text-align: right;\">    5.46001</td><td style=\"text-align: right;\">    7.19826</td><td style=\"text-align: right;\">      0</td></tr>\n",
       "<tr><td style=\"text-align: right;\">  -2.30259</td><td style=\"text-align: right;\">    5.45575</td><td style=\"text-align: right;\">    7.21825</td><td style=\"text-align: right;\">      0</td></tr>\n",
       "<tr><td style=\"text-align: right;\">  -2.30259</td><td style=\"text-align: right;\">    5.47688</td><td style=\"text-align: right;\">    7.16634</td><td style=\"text-align: right;\">      0</td></tr>\n",
       "<tr><td style=\"text-align: right;\">  -2.30259</td><td style=\"text-align: right;\">    5.19905</td><td style=\"text-align: right;\">    8.60339</td><td style=\"text-align: right;\">      0</td></tr>\n",
       "</tbody>\n",
       "</table>"
      ]
     },
     "metadata": {},
     "output_type": "display_data"
    },
    {
     "data": {
      "text/plain": []
     },
     "execution_count": 24,
     "metadata": {},
     "output_type": "execute_result"
    }
   ],
   "source": [
    "df_h2o.head()"
   ]
  },
  {
   "cell_type": "markdown",
   "metadata": {},
   "source": [
    "## make predictions using H2OIsolationForestEstimator"
   ]
  },
  {
   "cell_type": "code",
   "execution_count": 25,
   "metadata": {},
   "outputs": [
    {
     "name": "stdout",
     "output_type": "stream",
     "text": [
      "isolationforest Model Build progress: |███████████████████████████████████| 100%\n",
      "isolationforest prediction progress: |████████████████████████████████████| 100%\n"
     ]
    },
    {
     "data": {
      "text/html": [
       "<table>\n",
       "<thead>\n",
       "<tr><th style=\"text-align: right;\">  predict</th><th style=\"text-align: right;\">  mean_length</th></tr>\n",
       "</thead>\n",
       "<tbody>\n",
       "<tr><td style=\"text-align: right;\"> 0.306829</td><td style=\"text-align: right;\">        2.868</td></tr>\n",
       "<tr><td style=\"text-align: right;\"> 0.296539</td><td style=\"text-align: right;\">        2.89 </td></tr>\n",
       "<tr><td style=\"text-align: right;\"> 0.109448</td><td style=\"text-align: right;\">        3.29 </td></tr>\n",
       "<tr><td style=\"text-align: right;\"> 0.1029  </td><td style=\"text-align: right;\">        3.304</td></tr>\n",
       "<tr><td style=\"text-align: right;\"> 0.105706</td><td style=\"text-align: right;\">        3.298</td></tr>\n",
       "<tr><td style=\"text-align: right;\"> 0.109448</td><td style=\"text-align: right;\">        3.29 </td></tr>\n",
       "<tr><td style=\"text-align: right;\"> 0.114125</td><td style=\"text-align: right;\">        3.28 </td></tr>\n",
       "<tr><td style=\"text-align: right;\"> 0.118803</td><td style=\"text-align: right;\">        3.27 </td></tr>\n",
       "<tr><td style=\"text-align: right;\"> 0.11319 </td><td style=\"text-align: right;\">        3.282</td></tr>\n",
       "<tr><td style=\"text-align: right;\"> 0.245089</td><td style=\"text-align: right;\">        3    </td></tr>\n",
       "</tbody>\n",
       "</table>"
      ]
     },
     "metadata": {},
     "output_type": "display_data"
    },
    {
     "data": {
      "text/plain": []
     },
     "execution_count": 25,
     "metadata": {},
     "output_type": "execute_result"
    }
   ],
   "source": [
    "seed = 123\n",
    "ntrees = 500\n",
    "isoforest = h2o.estimators.H2OIsolationForestEstimator(\n",
    "    ntrees=ntrees, seed=seed)\n",
    "isoforest.train(x=df_h2o.col_names[0:3], training_frame=df_h2o)\n",
    "predictions = isoforest.predict(df_h2o)\n",
    "\n",
    "predictions"
   ]
  },
  {
   "cell_type": "code",
   "execution_count": 26,
   "metadata": {},
   "outputs": [
    {
     "data": {
      "text/html": [
       "<div>\n",
       "<style scoped>\n",
       "    .dataframe tbody tr th:only-of-type {\n",
       "        vertical-align: middle;\n",
       "    }\n",
       "\n",
       "    .dataframe tbody tr th {\n",
       "        vertical-align: top;\n",
       "    }\n",
       "\n",
       "    .dataframe thead th {\n",
       "        text-align: right;\n",
       "    }\n",
       "</style>\n",
       "<table border=\"1\" class=\"dataframe\">\n",
       "  <thead>\n",
       "    <tr style=\"text-align: right;\">\n",
       "      <th></th>\n",
       "      <th>predict</th>\n",
       "      <th>mean_length</th>\n",
       "    </tr>\n",
       "  </thead>\n",
       "  <tbody>\n",
       "    <tr>\n",
       "      <th>0</th>\n",
       "      <td>0.306829</td>\n",
       "      <td>2.868</td>\n",
       "    </tr>\n",
       "    <tr>\n",
       "      <th>1</th>\n",
       "      <td>0.296539</td>\n",
       "      <td>2.890</td>\n",
       "    </tr>\n",
       "    <tr>\n",
       "      <th>2</th>\n",
       "      <td>0.109448</td>\n",
       "      <td>3.290</td>\n",
       "    </tr>\n",
       "  </tbody>\n",
       "</table>\n",
       "</div>"
      ],
      "text/plain": [
       "    predict  mean_length\n",
       "0  0.306829        2.868\n",
       "1  0.296539        2.890\n",
       "2  0.109448        3.290"
      ]
     },
     "execution_count": 26,
     "metadata": {},
     "output_type": "execute_result"
    }
   ],
   "source": [
    "predictions_df = predictions.as_data_frame()\n",
    "predictions_df.head(3)"
   ]
  },
  {
   "cell_type": "code",
   "execution_count": 27,
   "metadata": {},
   "outputs": [
    {
     "data": {
      "image/png": "[encoded data removed]",
      "text/plain": [
       "<Figure size 432x288 with 1 Axes>"
      ]
     },
     "metadata": {
      "needs_background": "light"
     },
     "output_type": "display_data"
    }
   ],
   "source": [
    "sns.distplot(predictions_df['mean_length'], hist=True, kde=True, \n",
    "             bins=int(180/5), color = 'darkblue', \n",
    "             hist_kws={'edgecolor':'black'},\n",
    "             kde_kws={'linewidth': 2})\n",
    "plt.show()"
   ]
  },
  {
   "cell_type": "markdown",
   "metadata": {},
   "source": [
    "## Lets select mean_length say 2.37 as threshold below which the data points are outlier"
   ]
  },
  {
   "cell_type": "code",
   "execution_count": 28,
   "metadata": {},
   "outputs": [
    {
     "name": "stdout",
     "output_type": "stream",
     "text": [
      "Number of Anomalies: 2310\n"
     ]
    }
   ],
   "source": [
    "anomalies = df_h2o[predictions[\"mean_length\"] < 2.37]\n",
    "print(\"Number of Anomalies: \" + str(anomalies.nrow))"
   ]
  },
  {
   "cell_type": "code",
   "execution_count": 29,
   "metadata": {},
   "outputs": [],
   "source": [
    "column_names = df_h2o.col_names[0:3]"
   ]
  },
  {
   "cell_type": "code",
   "execution_count": 30,
   "metadata": {},
   "outputs": [
    {
     "data": {
      "text/plain": [
       "['duration', 'src_bytes', 'dst_bytes']"
      ]
     },
     "execution_count": 30,
     "metadata": {},
     "output_type": "execute_result"
    }
   ],
   "source": [
    "column_names"
   ]
  },
  {
   "cell_type": "code",
   "execution_count": 31,
   "metadata": {},
   "outputs": [
    {
     "name": "stdout",
     "output_type": "stream",
     "text": [
      "isolationforest prediction progress: |████████████████████████████████████| 100%\n"
     ]
    },
    {
     "data": {
      "text/html": [
       "<table>\n",
       "<thead>\n",
       "<tr><th style=\"text-align: right;\">  mean_length</th><th style=\"text-align: right;\">  duration</th><th style=\"text-align: right;\">  src_bytes</th><th style=\"text-align: right;\">  dst_bytes</th></tr>\n",
       "</thead>\n",
       "<tbody>\n",
       "<tr><td style=\"text-align: right;\">        2.356</td><td style=\"text-align: right;\">   4.09601</td><td style=\"text-align: right;\">    5.31861</td><td style=\"text-align: right;\">    6.04997</td></tr>\n",
       "<tr><td style=\"text-align: right;\">        2.244</td><td style=\"text-align: right;\">   5.30876</td><td style=\"text-align: right;\">    5.77175</td><td style=\"text-align: right;\">    6.04997</td></tr>\n",
       "<tr><td style=\"text-align: right;\">        2.308</td><td style=\"text-align: right;\">   4.39568</td><td style=\"text-align: right;\">    5.29381</td><td style=\"text-align: right;\">    6.1401 </td></tr>\n",
       "<tr><td style=\"text-align: right;\">        2.334</td><td style=\"text-align: right;\">  -2.30259</td><td style=\"text-align: right;\">    5.11259</td><td style=\"text-align: right;\">   12.4912 </td></tr>\n",
       "<tr><td style=\"text-align: right;\">        2.18 </td><td style=\"text-align: right;\">  -2.30259</td><td style=\"text-align: right;\">    5.0113 </td><td style=\"text-align: right;\">   12.4912 </td></tr>\n",
       "<tr><td style=\"text-align: right;\">        2.072</td><td style=\"text-align: right;\">   1.1314 </td><td style=\"text-align: right;\">    4.94947</td><td style=\"text-align: right;\">    9.71819</td></tr>\n",
       "<tr><td style=\"text-align: right;\">        2.35 </td><td style=\"text-align: right;\">   4.62595</td><td style=\"text-align: right;\">    5.3038 </td><td style=\"text-align: right;\">    7.86829</td></tr>\n",
       "<tr><td style=\"text-align: right;\">        2.224</td><td style=\"text-align: right;\">   5.24228</td><td style=\"text-align: right;\">    5.76237</td><td style=\"text-align: right;\">    7.86829</td></tr>\n",
       "<tr><td style=\"text-align: right;\">        2.368</td><td style=\"text-align: right;\">  -2.30259</td><td style=\"text-align: right;\">    4.96354</td><td style=\"text-align: right;\">   10.3144 </td></tr>\n",
       "<tr><td style=\"text-align: right;\">        2.368</td><td style=\"text-align: right;\">  -2.30259</td><td style=\"text-align: right;\">    4.96354</td><td style=\"text-align: right;\">   10.3144 </td></tr>\n",
       "</tbody>\n",
       "</table>"
      ]
     },
     "metadata": {},
     "output_type": "display_data"
    },
    {
     "data": {
      "text/plain": []
     },
     "execution_count": 31,
     "metadata": {},
     "output_type": "execute_result"
    }
   ],
   "source": [
    "isoforest.predict(anomalies)[\"mean_length\"].cbind(anomalies[column_names])"
   ]
  },
  {
   "cell_type": "markdown",
   "metadata": {},
   "source": [
    "## Lets analyse at the global level the reason for data points being an anamoly"
   ]
  },
  {
   "cell_type": "code",
   "execution_count": 32,
   "metadata": {},
   "outputs": [
    {
     "data": {
      "text/html": [
       "<table>\n",
       "<thead>\n",
       "<tr><th>anomaly  </th><th style=\"text-align: right;\">  Count</th></tr>\n",
       "</thead>\n",
       "<tbody>\n",
       "<tr><td>No       </td><td style=\"text-align: right;\"> 565188</td></tr>\n",
       "<tr><td>Yes      </td><td style=\"text-align: right;\">   2310</td></tr>\n",
       "</tbody>\n",
       "</table>"
      ]
     },
     "metadata": {},
     "output_type": "display_data"
    },
    {
     "data": {
      "text/plain": []
     },
     "execution_count": 32,
     "metadata": {},
     "output_type": "execute_result"
    }
   ],
   "source": [
    "global_surrogate_data = df_h2o[:, :]\n",
    "global_surrogate_data[\"anomaly\"] = (predictions[\"mean_length\"] < 2.37).ifelse(\"Yes\", \"No\")\n",
    "global_surrogate_data[\"anomaly\"].table()"
   ]
  },
  {
   "cell_type": "code",
   "execution_count": 33,
   "metadata": {},
   "outputs": [
    {
     "name": "stdout",
     "output_type": "stream",
     "text": [
      "drf Model Build progress: |███████████████████████████████████████████████| 100%\n"
     ]
    }
   ],
   "source": [
    "from h2o.estimators import H2ORandomForestEstimator\n",
    "\n",
    "global_surrogate_dt = H2ORandomForestEstimator(model_id = \"global_surrogate_decision_tree.hex\", \n",
    "                                               ntrees = 1, max_depth = 3,\n",
    "                                               sample_rate = 1, mtries = len(column_names))\n",
    "global_surrogate_dt.train(training_frame = global_surrogate_data, x = column_names, y = \"anomaly\")"
   ]
  },
  {
   "cell_type": "code",
   "execution_count": 34,
   "metadata": {},
   "outputs": [],
   "source": [
    "import os\n",
    "import subprocess\n",
    "from IPython.display import Image\n",
    "def generateTreeImage(decision_tree, image_file_path):\n",
    "    # Download MOJO\n",
    "    mojo_path = decision_tree.download_mojo(get_genmodel_jar=True)\n",
    "    directory = os.path.dirname(mojo_path)\n",
    "    h2o_jar_path = os.path.join(directory, \"h2o-genmodel.jar\")\n",
    "    # Create Graphviz file\n",
    "    gv_file_path = os.path.join(directory, \"decision_tree.gv\")\n",
    "    gv_call = \" \".join([\"java\", \"-cp\", h2o_jar_path, \"hex.genmodel.tools.PrintMojo\", \"--tree 0 -i\", mojo_path , \"-o\", gv_file_path])\n",
    "    result = subprocess.call(gv_call, shell=True)\n",
    "    result = subprocess.call([\"ls\", gv_file_path], shell = True)\n",
    "    result = subprocess.call([\"dot\", \"-Tpng\", gv_file_path, \"-o\", image_file_path], shell=True)\n",
    "    result = subprocess.call([\"ls\",image_file_path], shell = True)\n",
    "    \n",
    "    return Image(image_file_path)"
   ]
  },
  {
   "cell_type": "code",
   "execution_count": 35,
   "metadata": {},
   "outputs": [
    {
     "data": {
      "image/png": "[encoded data removed]",
      "text/plain": [
       "<IPython.core.display.Image object>"
      ]
     },
     "execution_count": 35,
     "metadata": {},
     "output_type": "execute_result"
    }
   ],
   "source": [
    "generateTreeImage(global_surrogate_dt, \"./global_surrogate_decision_tree_http.png\")"
   ]
  },
  {
   "cell_type": "markdown",
   "metadata": {},
   "source": [
    "####  leaves with 0 values are outliers. To summarize, duration < 4.644 , src_bytes< 4.947 and dst_bytes < 5.46 together constitute outliers at global scale. Same can also be verified with stripplot plotted earlier"
   ]
  },
  {
   "cell_type": "code",
   "execution_count": 46,
   "metadata": {},
   "outputs": [
    {
     "data": {
      "text/html": [
       "<table>\n",
       "<thead>\n",
       "<tr><th style=\"text-align: right;\">  Probs</th><th style=\"text-align: right;\">  predictQuantiles</th><th style=\"text-align: right;\">  mean_lengthQuantiles</th><th style=\"text-align: right;\">  predicted_classQuantiles</th><th style=\"text-align: right;\">  classQuantiles</th></tr>\n",
       "</thead>\n",
       "<tbody>\n",
       "<tr><td style=\"text-align: right;\">   0.97</td><td style=\"text-align: right;\">          0.363891</td><td style=\"text-align: right;\">                  3.41</td><td style=\"text-align: right;\">                         1</td><td style=\"text-align: right;\">               0</td></tr>\n",
       "</tbody>\n",
       "</table>"
      ]
     },
     "metadata": {},
     "output_type": "display_data"
    },
    {
     "data": {
      "text/plain": []
     },
     "execution_count": 46,
     "metadata": {},
     "output_type": "execute_result"
    }
   ],
   "source": [
    "quantile = 0.97\n",
    "quantile_frame = predictions.quantile([quantile])\n",
    "quantile_frame"
   ]
  },
  {
   "cell_type": "markdown",
   "metadata": {},
   "source": [
    "We can use the threshold to predict the anomalous class. Try with different values of threshold "
   ]
  },
  {
   "cell_type": "code",
   "execution_count": 47,
   "metadata": {},
   "outputs": [
    {
     "data": {
      "text/html": [
       "<table>\n",
       "<thead>\n",
       "<tr><th style=\"text-align: right;\">  predict</th><th style=\"text-align: right;\">  mean_length</th><th style=\"text-align: right;\">  predicted_class</th><th style=\"text-align: right;\">  class</th></tr>\n",
       "</thead>\n",
       "<tbody>\n",
       "<tr><td style=\"text-align: right;\"> 0.306829</td><td style=\"text-align: right;\">        2.868</td><td style=\"text-align: right;\">                0</td><td style=\"text-align: right;\">      0</td></tr>\n",
       "<tr><td style=\"text-align: right;\"> 0.296539</td><td style=\"text-align: right;\">        2.89 </td><td style=\"text-align: right;\">                0</td><td style=\"text-align: right;\">      0</td></tr>\n",
       "<tr><td style=\"text-align: right;\"> 0.109448</td><td style=\"text-align: right;\">        3.29 </td><td style=\"text-align: right;\">                0</td><td style=\"text-align: right;\">      0</td></tr>\n",
       "<tr><td style=\"text-align: right;\"> 0.1029  </td><td style=\"text-align: right;\">        3.304</td><td style=\"text-align: right;\">                0</td><td style=\"text-align: right;\">      0</td></tr>\n",
       "<tr><td style=\"text-align: right;\"> 0.105706</td><td style=\"text-align: right;\">        3.298</td><td style=\"text-align: right;\">                0</td><td style=\"text-align: right;\">      0</td></tr>\n",
       "<tr><td style=\"text-align: right;\"> 0.109448</td><td style=\"text-align: right;\">        3.29 </td><td style=\"text-align: right;\">                0</td><td style=\"text-align: right;\">      0</td></tr>\n",
       "<tr><td style=\"text-align: right;\"> 0.114125</td><td style=\"text-align: right;\">        3.28 </td><td style=\"text-align: right;\">                0</td><td style=\"text-align: right;\">      0</td></tr>\n",
       "<tr><td style=\"text-align: right;\"> 0.118803</td><td style=\"text-align: right;\">        3.27 </td><td style=\"text-align: right;\">                0</td><td style=\"text-align: right;\">      0</td></tr>\n",
       "<tr><td style=\"text-align: right;\"> 0.11319 </td><td style=\"text-align: right;\">        3.282</td><td style=\"text-align: right;\">                0</td><td style=\"text-align: right;\">      0</td></tr>\n",
       "<tr><td style=\"text-align: right;\"> 0.245089</td><td style=\"text-align: right;\">        3    </td><td style=\"text-align: right;\">                0</td><td style=\"text-align: right;\">      0</td></tr>\n",
       "</tbody>\n",
       "</table>"
      ]
     },
     "metadata": {},
     "output_type": "display_data"
    },
    {
     "data": {
      "text/plain": []
     },
     "execution_count": 47,
     "metadata": {},
     "output_type": "execute_result"
    }
   ],
   "source": [
    "threshold = quantile_frame[0, \"predictQuantiles\"]\n",
    "predictions[\"predicted_class\"] = predictions[\"predict\"] > threshold\n",
    "predictions[\"class\"] = df_h2o[\"class\"]\n",
    "predictions"
   ]
  },
  {
   "cell_type": "markdown",
   "metadata": {},
   "source": [
    "# Evaluation"
   ]
  },
  {
   "cell_type": "markdown",
   "metadata": {},
   "source": [
    "Because the isolation forest is an unsupervised method, it makes sense to have a look at the classification metrics that are not dependent on the prediction threshold and give an estimate of the quality of scoring. Two such metrics are Area Under the Receiver Operating Characteristic Curve (AUC) and Area under the Precision-Recall Curve (AUCPR).\n",
    "\n",
    "AUC is a metric evaluating how well a binary classification model distinguishes true positives from false positives. The perfect AUC score is 1; the baseline score of a random guessing is 0.5.\n",
    "\n",
    "AUCPR is a metric evaluating the precision recall trade-off of a binary classification using different thresholds of the continuous prediction score. The perfect AUCPR score is 1; the baseline score is the relative count of the positive class.\n",
    "\n",
    "For highly imbalanced data, AUCPR is recommended over AUC as the AUCPR is more sensitive to True positives, False positives and False negatives, while not caring about True negatives, which in large quantity usually overshadow the effect of other metrics."
   ]
  },
  {
   "cell_type": "code",
   "execution_count": 48,
   "metadata": {},
   "outputs": [
    {
     "data": {
      "image/png": "[encoded data removed]",
      "text/plain": [
       "<Figure size 648x324 with 2 Axes>"
      ]
     },
     "metadata": {
      "needs_background": "light"
     },
     "output_type": "display_data"
    }
   ],
   "source": [
    "%matplotlib inline\n",
    "from sklearn.metrics import roc_curve, precision_recall_curve, auc\n",
    "import matplotlib.pyplot as plt\n",
    "import numpy as np\n",
    "\n",
    "\n",
    "def get_auc(labels, scores):\n",
    "    fpr, tpr, thresholds = roc_curve(labels, scores)\n",
    "    auc_score = auc(fpr, tpr)\n",
    "    return fpr, tpr, auc_score\n",
    "\n",
    "\n",
    "def get_aucpr(labels, scores):\n",
    "    precision, recall, th = precision_recall_curve(labels, scores)\n",
    "    aucpr_score = np.trapz(recall, precision)\n",
    "    return precision, recall, aucpr_score\n",
    "\n",
    "\n",
    "def plot_metric(ax, x, y, x_label, y_label, plot_label, style=\"-\"):\n",
    "    ax.plot(x, y, style, label=plot_label)\n",
    "    ax.legend()\n",
    "    \n",
    "    ax.set_ylabel(x_label)\n",
    "    ax.set_xlabel(y_label)\n",
    "\n",
    "\n",
    "def prediction_summary(labels, predicted_score, predicted_class, info, plot_baseline=True, axes=None):\n",
    "    if axes is None:\n",
    "        axes = [plt.subplot(1, 2, 1), plt.subplot(1, 2, 2)]\n",
    "\n",
    "    fpr, tpr, auc_score = get_auc(labels, predicted_score)\n",
    "    plot_metric(axes[0], fpr, tpr, \"False positive rate\",\n",
    "                \"True positive rate\", \"{} AUC = {:.4f}\".format(info, auc_score))\n",
    "    if plot_baseline:\n",
    "        plot_metric(axes[0], [0, 1], [0, 1], \"False positive rate\",\n",
    "                \"True positive rate\", \"baseline AUC = 0.5\", \"r--\")\n",
    "\n",
    "    precision, recall, aucpr_score = get_aucpr(labels, predicted_score)\n",
    "    plot_metric(axes[1], recall, precision, \"Recall\",\n",
    "                \"Precision\", \"{} AUCPR = {:.4f}\".format(info, aucpr_score))\n",
    "    if plot_baseline:\n",
    "        thr = sum(labels)/len(labels)\n",
    "        plot_metric(axes[1], [0, 1], [thr, thr], \"Recall\",\n",
    "                \"Precision\", \"baseline AUCPR = {:.4f}\".format(thr), \"r--\")\n",
    "\n",
    "    plt.show()\n",
    "    return axes\n",
    "\n",
    "\n",
    "def figure():\n",
    "    fig_size = 4.5\n",
    "    f = plt.figure()\n",
    "    f.set_figheight(fig_size)\n",
    "    f.set_figwidth(fig_size*2)\n",
    "\n",
    "\n",
    "h2o_predictions = predictions.as_data_frame()\n",
    "\n",
    "figure()\n",
    "axes = prediction_summary(\n",
    "    h2o_predictions[\"class\"], h2o_predictions[\"predict\"], h2o_predictions[\"predicted_class\"], \"h2o\")\n"
   ]
  },
  {
   "cell_type": "code",
   "execution_count": 49,
   "metadata": {},
   "outputs": [
    {
     "name": "stdout",
     "output_type": "stream",
     "text": [
      "[[550606  14681]\n",
      " [     0   2211]]\n"
     ]
    },
    {
     "data": {
      "image/png": "[encoded data removed]",
      "text/plain": [
       "<Figure size 288x288 with 2 Axes>"
      ]
     },
     "metadata": {
      "needs_background": "light"
     },
     "output_type": "display_data"
    }
   ],
   "source": [
    "from sklearn.metrics import confusion_matrix\n",
    "LABELS = ['Normal','Attack']\n",
    "conf_matrix = confusion_matrix(h2o_predictions[\"class\"], h2o_predictions[\"predicted_class\"])\n",
    "print(conf_matrix)\n",
    "plt.figure(figsize=(4,4))\n",
    "sns.heatmap(conf_matrix, xticklabels=LABELS, yticklabels=LABELS, annot=True, fmt=\"d\");\n",
    "plt.title(\"Confusion matrix\")\n",
    "plt.ylabel('True class')\n",
    "plt.xlabel('Predicted class')\n",
    "plt.show()\n",
    "\n",
    "\n",
    "# [[539473  25814]\n",
    "#  [    15   2196]]\n",
    "\n",
    "# 2.2\n",
    "# [[564309    978]\n",
    "#  [  2194     17]]\n",
    "\n",
    "# 3.44\n",
    "# [[511945  53342]\n",
    "#  [     0   2211]]\n",
    "\n",
    "# 3.52\n",
    "# [[555043  10244]\n",
    "#  [  2164     47]]"
   ]
  },
  {
   "cell_type": "code",
   "execution_count": 50,
   "metadata": {},
   "outputs": [
    {
     "name": "stdout",
     "output_type": "stream",
     "text": [
      "f1_score: 0.23\n",
      "average_precision_score: 0.13\n",
      "recall_score: 1.00\n",
      "precision_score: 0.13\n"
     ]
    }
   ],
   "source": [
    "from sklearn.metrics import f1_score\n",
    "from sklearn.metrics import average_precision_score\n",
    "from sklearn.metrics import recall_score\n",
    "from sklearn.metrics import precision_score\n",
    "from sklearn.metrics import precision_recall_fscore_support\n",
    "\n",
    "print(\"f1_score: %.2f\" % f1_score(h2o_predictions[\"class\"], h2o_predictions[\"predicted_class\"]))\n",
    "print(\"average_precision_score: %.2f\" % average_precision_score(h2o_predictions[\"class\"], h2o_predictions[\"predicted_class\"]))\n",
    "print(\"recall_score: %.2f\" % recall_score(h2o_predictions[\"class\"], h2o_predictions[\"predicted_class\"]))\n",
    "print(\"precision_score: %.2f\" % precision_score(h2o_predictions[\"class\"], h2o_predictions[\"predicted_class\"]))\n",
    "   "
   ]
  },
  {
   "cell_type": "code",
   "execution_count": null,
   "metadata": {},
   "outputs": [],
   "source": []
  }
 ],
 "metadata": {
  "kernelspec": {
   "display_name": "Python 3",
   "language": "python",
   "name": "python3"
  },
  "language_info": {
   "codemirror_mode": {
    "name": "ipython",
    "version": 3
   },
   "file_extension": ".py",
   "mimetype": "text/x-python",
   "name": "python",
   "nbconvert_exporter": "python",
   "pygments_lexer": "ipython3",
   "version": "3.7.3"
  }
 },
 "nbformat": 4,
 "nbformat_minor": 2
}
